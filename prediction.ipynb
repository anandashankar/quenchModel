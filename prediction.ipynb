{
 "cells": [
  {
   "cell_type": "code",
   "execution_count": 10,
   "metadata": {},
   "outputs": [],
   "source": [
    "import os\n",
    "import pandas as pd\n",
    "import cv2\n",
    "import numpy as np\n",
    "from tensorflow.keras.models import load_model \n",
    "import pickle"
   ]
  },
  {
   "cell_type": "code",
   "execution_count": 11,
   "metadata": {},
   "outputs": [],
   "source": [
    "def run_file(model):\n",
    "    \n",
    "    feature = pd.read_excel('ED_Data_Part3.xlsx', sheet_name='Table 11')\n",
    "    \n",
    "    # One-hot encode the data using pandas get_dummies\n",
    "    feature1 = pd.get_dummies(feature)\n",
    "    \n",
    "    # Labels are the values we want to predict\n",
    "    #labels = np.array(feature1['label'])\n",
    "\n",
    "    # Remove the labels from the features\n",
    "    # axis 1 refers to the columns\n",
    "    features= feature1.iloc[:,:8]\n",
    "\n",
    "    # Saving feature names for later use\n",
    "    feature_list = list(features.columns)\n",
    "\n",
    "    # Convert to numpy array\n",
    "    features = np.array(features)\n",
    "    \n",
    "    #predict on new data with the help of model created by hdf5.py \n",
    "    y_pred = model.predict(features)\n",
    "    \n",
    "    pred = pd.DataFrame(y_pred, columns=['predictions']).to_csv('pred_result_Table11.csv')\n",
    "    \n",
    "    print(\"End\")"
   ]
  },
  {
   "cell_type": "code",
   "execution_count": 12,
   "metadata": {},
   "outputs": [
    {
     "name": "stdout",
     "output_type": "stream",
     "text": [
      "End\n"
     ]
    }
   ],
   "source": [
    "def load_model_():\n",
    "    \n",
    "    model = pickle.load(open('quench_RandomForest_model.sav', 'rb'))\n",
    "\n",
    "    return model\n",
    "    \n",
    "def main():\n",
    "    \n",
    "    modela = load_model_()\n",
    "    run_file(modela)\n",
    "        \n",
    "    \n",
    "if __name__== \"__main__\":\n",
    "    main()"
   ]
  },
  {
   "cell_type": "code",
   "execution_count": null,
   "metadata": {},
   "outputs": [],
   "source": []
  }
 ],
 "metadata": {
  "kernelspec": {
   "display_name": "Python 3",
   "language": "python",
   "name": "python3"
  },
  "language_info": {
   "codemirror_mode": {
    "name": "ipython",
    "version": 3
   },
   "file_extension": ".py",
   "mimetype": "text/x-python",
   "name": "python",
   "nbconvert_exporter": "python",
   "pygments_lexer": "ipython3",
   "version": "3.7.3"
  }
 },
 "nbformat": 4,
 "nbformat_minor": 2
}
